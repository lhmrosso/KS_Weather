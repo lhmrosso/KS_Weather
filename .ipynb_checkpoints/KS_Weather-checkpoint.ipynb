{
 "cells": [
  {
   "cell_type": "markdown",
   "metadata": {},
   "source": [
    "# KS_Weather\n",
    "*Getting weather data with python 3*  \n",
    "\n",
    "**Author**: Luiz Moro Rosso  \n",
    "**Semester**: Spring 2019  \n",
    "**Project area**: Agronomy  \n",
    "**Date**: 16 April 2019\n",
    "\n",
    "<br>"
   ]
  },
  {
   "cell_type": "markdown",
   "metadata": {},
   "source": [
    "# Final project\n",
    "\n",
    "The script will be divided in 5 main steps:\n",
    "\n",
    "1. Importing `USER_inputs.csv`;  \n",
    "2. Identifying the closest land station;  \n",
    "3. Getting data for the specified time interval;  \n",
    "4. Replacing missing values for all the variables;  \n",
    "5. Combining the locations in the `CODE_output.csv`.  \n",
    "\n",
    "<br>"
   ]
  },
  {
   "cell_type": "markdown",
   "metadata": {},
   "source": [
    "**Required modules:**"
   ]
  },
  {
   "cell_type": "code",
   "execution_count": 1,
   "metadata": {},
   "outputs": [],
   "source": [
    "import datetime\n",
    "import pandas as pd\n",
    "import numpy as np"
   ]
  },
  {
   "cell_type": "code",
   "execution_count": 2,
   "metadata": {},
   "outputs": [
    {
     "data": {
      "text/html": [
       "<style>\n",
       "  table {margin-left: 0 !important;}\n",
       "</style>\n"
      ],
      "text/plain": [
       "<IPython.core.display.HTML object>"
      ]
     },
     "metadata": {},
     "output_type": "display_data"
    }
   ],
   "source": [
    "%%html\n",
    "<style>\n",
    "  table {margin-left: 0 !important;}\n",
    "</style>"
   ]
  },
  {
   "cell_type": "markdown",
   "metadata": {},
   "source": [
    "## 1. Importing `USER_inputs.csv`\n",
    "\n",
    "1. Please, complete the .csv file `USER_inputs.csv` (Table 1);\n",
    "2. Keep the file in the repository folder in your computer.\n",
    "\n",
    "**Table 1.** Example of `USER_inputs.csv` showing the required format for each column.\n",
    "\n",
    "| State          | Location_code  | Latitude       | Longitude      | Start_date     |End_date        |\n",
    "|:--------------:|:--------------:|:--------------:|:--------------:|:--------------:|:--------------:|\n",
    "| Kansas         | Manhattan_01   | 00.0000000     | 00.0000000     | MM/DD/YYYY     | MM/DD/YYYY     |"
   ]
  },
  {
   "cell_type": "code",
   "execution_count": 3,
   "metadata": {},
   "outputs": [
    {
     "data": {
      "text/html": [
       "<div>\n",
       "<style scoped>\n",
       "    .dataframe tbody tr th:only-of-type {\n",
       "        vertical-align: middle;\n",
       "    }\n",
       "\n",
       "    .dataframe tbody tr th {\n",
       "        vertical-align: top;\n",
       "    }\n",
       "\n",
       "    .dataframe thead th {\n",
       "        text-align: right;\n",
       "    }\n",
       "</style>\n",
       "<table border=\"1\" class=\"dataframe\">\n",
       "  <thead>\n",
       "    <tr style=\"text-align: right;\">\n",
       "      <th></th>\n",
       "      <th>State</th>\n",
       "      <th>Location_code</th>\n",
       "      <th>Latitude</th>\n",
       "      <th>Longitude</th>\n",
       "      <th>Start_date</th>\n",
       "      <th>End_date</th>\n",
       "    </tr>\n",
       "  </thead>\n",
       "  <tbody>\n",
       "    <tr>\n",
       "      <th>0</th>\n",
       "      <td>Kansas</td>\n",
       "      <td>Histgen_Ashland</td>\n",
       "      <td>39.137253</td>\n",
       "      <td>-96.636581</td>\n",
       "      <td>2018-04-27</td>\n",
       "      <td>2018-10-17</td>\n",
       "    </tr>\n",
       "    <tr>\n",
       "      <th>1</th>\n",
       "      <td>Kansas</td>\n",
       "      <td>Agrocete_Ashland</td>\n",
       "      <td>39.122417</td>\n",
       "      <td>-96.637027</td>\n",
       "      <td>2018-06-18</td>\n",
       "      <td>2018-10-29</td>\n",
       "    </tr>\n",
       "    <tr>\n",
       "      <th>2</th>\n",
       "      <td>Kansas</td>\n",
       "      <td>NitSulfur_Topeka</td>\n",
       "      <td>39.076541</td>\n",
       "      <td>-95.770844</td>\n",
       "      <td>2018-05-10</td>\n",
       "      <td>2018-10-03</td>\n",
       "    </tr>\n",
       "  </tbody>\n",
       "</table>\n",
       "</div>"
      ],
      "text/plain": [
       "    State     Location_code   Latitude  Longitude Start_date   End_date\n",
       "0  Kansas   Histgen_Ashland  39.137253 -96.636581 2018-04-27 2018-10-17\n",
       "1  Kansas  Agrocete_Ashland  39.122417 -96.637027 2018-06-18 2018-10-29\n",
       "2  Kansas  NitSulfur_Topeka  39.076541 -95.770844 2018-05-10 2018-10-03"
      ]
     },
     "execution_count": 3,
     "metadata": {},
     "output_type": "execute_result"
    }
   ],
   "source": [
    "# Reading .csv file from the repository\n",
    "user_input = pd.read_csv('USER_inputs.csv')\n",
    "\n",
    "# Changing the columns to date format (start and end dates)\n",
    "user_input['Start_date'] = pd.to_datetime(user_input['Start_date'])\n",
    "user_input['End_date'] = pd.to_datetime(user_input['End_date'])\n",
    "\n",
    "# Checking\n",
    "user_input"
   ]
  },
  {
   "cell_type": "markdown",
   "metadata": {},
   "source": [
    "<br>\n",
    "\n",
    "## 2. Identifying the closest land station\n",
    "\n",
    "Importing all the locations (coordinates) from Kansas Mesonet."
   ]
  },
  {
   "cell_type": "code",
   "execution_count": 4,
   "metadata": {},
   "outputs": [],
   "source": [
    "# Importing .csv from the web with all Kansas Mesonet stations\n",
    "Stations = pd.read_csv('http://mesonet.k-state.edu/rest/stationnames/')"
   ]
  },
  {
   "cell_type": "markdown",
   "metadata": {},
   "source": [
    "**Function to calculate the distance between coordinates:**  \n",
    "The `haversin()` function is based on the Haversine formula.  \n",
    "It will calculate the distance in miles between two coordinates."
   ]
  },
  {
   "cell_type": "code",
   "execution_count": 5,
   "metadata": {},
   "outputs": [],
   "source": [
    "def haversin(lat1,lon1,lat2,lon2):\n",
    "    \n",
    "    '''Haversine formula'''\n",
    "    \n",
    "    R = 3958.8 # Radius of the earth in miles\n",
    "\n",
    "    dLat = np.radians(lat2-lat1)\n",
    "    \n",
    "    dLon = np.radians(lon2-lon1)\n",
    "    \n",
    "    a1 = np.sin(dLat/2) * np.sin(dLat/2)\n",
    "    \n",
    "    a2 = np.cos(np.radians(lat1)) * np.cos(np.radians(lat2)) * np.sin(dLon/2) * np.sin(dLon/2)\n",
    "    \n",
    "    a = a1 + a2 # Just to make the code smaller\n",
    "    \n",
    "    c = 2 * np.arctan2(np.sqrt(a), np.sqrt(1-a))\n",
    "    \n",
    "    d = R * c # Distance between the points\n",
    "    \n",
    "    return d"
   ]
  },
  {
   "cell_type": "markdown",
   "metadata": {},
   "source": [
    "**Applying the function to all the locations:**  \n",
    "Calculating from each Location to all the stations."
   ]
  },
  {
   "cell_type": "code",
   "execution_count": 6,
   "metadata": {},
   "outputs": [],
   "source": [
    "# Creating empty lists for the loop\n",
    "Locations = []; NAMES = []; Distance = []\n",
    "\n",
    "# For loop to apply haversin()\n",
    "for i in range(0,len(user_input)):\n",
    "    \n",
    "    for j in range(0,len(Stations)):\n",
    "        \n",
    "        Locations.append(str(user_input.loc[i,'Location_code']))\n",
    "        \n",
    "        NAMES.append(str(Stations.loc[j,'NAME']))\n",
    "        \n",
    "        Distance.append(haversin(user_input.loc[i,'Latitude'],\n",
    "                                 user_input.loc[i,'Longitude'],\n",
    "                                 Stations.loc[j,'LATITUDE'],\n",
    "                                 Stations.loc[j,'LONGITUDE']))\n",
    "\n",
    "# From lists to DataFrame\n",
    "DISTANCES = pd.DataFrame({'Location_code': Locations,\n",
    "                          'Distance': Distance,\n",
    "                          'NAME': NAMES})"
   ]
  },
  {
   "cell_type": "markdown",
   "metadata": {},
   "source": [
    "**Selecting the station with the smallest distance:**  \n",
    "It will add new columns to the `user_input`."
   ]
  },
  {
   "cell_type": "code",
   "execution_count": 7,
   "metadata": {},
   "outputs": [
    {
     "data": {
      "text/html": [
       "<div>\n",
       "<style scoped>\n",
       "    .dataframe tbody tr th:only-of-type {\n",
       "        vertical-align: middle;\n",
       "    }\n",
       "\n",
       "    .dataframe tbody tr th {\n",
       "        vertical-align: top;\n",
       "    }\n",
       "\n",
       "    .dataframe thead th {\n",
       "        text-align: right;\n",
       "    }\n",
       "</style>\n",
       "<table border=\"1\" class=\"dataframe\">\n",
       "  <thead>\n",
       "    <tr style=\"text-align: right;\">\n",
       "      <th></th>\n",
       "      <th>State</th>\n",
       "      <th>Location_code</th>\n",
       "      <th>Latitude</th>\n",
       "      <th>Longitude</th>\n",
       "      <th>Start_date</th>\n",
       "      <th>End_date</th>\n",
       "      <th>Distance</th>\n",
       "      <th>NAME</th>\n",
       "    </tr>\n",
       "  </thead>\n",
       "  <tbody>\n",
       "    <tr>\n",
       "      <th>0</th>\n",
       "      <td>Kansas</td>\n",
       "      <td>Histgen_Ashland</td>\n",
       "      <td>39.137253</td>\n",
       "      <td>-96.636581</td>\n",
       "      <td>2018-04-27</td>\n",
       "      <td>2018-10-17</td>\n",
       "      <td>0.793205</td>\n",
       "      <td>Ashland Bottoms</td>\n",
       "    </tr>\n",
       "    <tr>\n",
       "      <th>1</th>\n",
       "      <td>Kansas</td>\n",
       "      <td>Agrocete_Ashland</td>\n",
       "      <td>39.122417</td>\n",
       "      <td>-96.637027</td>\n",
       "      <td>2018-06-18</td>\n",
       "      <td>2018-10-29</td>\n",
       "      <td>0.233405</td>\n",
       "      <td>Ashland Bottoms</td>\n",
       "    </tr>\n",
       "    <tr>\n",
       "      <th>2</th>\n",
       "      <td>Kansas</td>\n",
       "      <td>NitSulfur_Topeka</td>\n",
       "      <td>39.076541</td>\n",
       "      <td>-95.770844</td>\n",
       "      <td>2018-05-10</td>\n",
       "      <td>2018-10-03</td>\n",
       "      <td>0.093515</td>\n",
       "      <td>Silver Lake</td>\n",
       "    </tr>\n",
       "  </tbody>\n",
       "</table>\n",
       "</div>"
      ],
      "text/plain": [
       "    State     Location_code   Latitude  Longitude Start_date   End_date  \\\n",
       "0  Kansas   Histgen_Ashland  39.137253 -96.636581 2018-04-27 2018-10-17   \n",
       "1  Kansas  Agrocete_Ashland  39.122417 -96.637027 2018-06-18 2018-10-29   \n",
       "2  Kansas  NitSulfur_Topeka  39.076541 -95.770844 2018-05-10 2018-10-03   \n",
       "\n",
       "   Distance             NAME  \n",
       "0  0.793205  Ashland Bottoms  \n",
       "1  0.233405  Ashland Bottoms  \n",
       "2  0.093515      Silver Lake  "
      ]
     },
     "execution_count": 7,
     "metadata": {},
     "output_type": "execute_result"
    }
   ],
   "source": [
    "# Adding the columns relative to the closest weather land station (Name and distance)\n",
    "user_input = pd.merge(user_input, DISTANCES.loc[DISTANCES.groupby(\"Location_code\")[\"Distance\"].idxmin()])\n",
    "\n",
    "# Checking\n",
    "user_input"
   ]
  },
  {
   "cell_type": "markdown",
   "metadata": {},
   "source": [
    "<br>\n",
    "\n",
    "## 3. Getting data for the specified time interval  \n",
    "  \n",
    "The URL (Uniform Resource Locator) depends on the station `NAME`, `Start_date` and `End_date`.  \n",
    "All this information is already available in the `user_input`. But it is necessary to build the URL."
   ]
  },
  {
   "cell_type": "markdown",
   "metadata": {},
   "source": [
    "**Creating the URL path for each location and time interval:**"
   ]
  },
  {
   "cell_type": "code",
   "execution_count": 8,
   "metadata": {},
   "outputs": [
    {
     "data": {
      "text/html": [
       "<div>\n",
       "<style scoped>\n",
       "    .dataframe tbody tr th:only-of-type {\n",
       "        vertical-align: middle;\n",
       "    }\n",
       "\n",
       "    .dataframe tbody tr th {\n",
       "        vertical-align: top;\n",
       "    }\n",
       "\n",
       "    .dataframe thead th {\n",
       "        text-align: right;\n",
       "    }\n",
       "</style>\n",
       "<table border=\"1\" class=\"dataframe\">\n",
       "  <thead>\n",
       "    <tr style=\"text-align: right;\">\n",
       "      <th></th>\n",
       "      <th>State</th>\n",
       "      <th>Location_code</th>\n",
       "      <th>Latitude</th>\n",
       "      <th>Longitude</th>\n",
       "      <th>Start_date</th>\n",
       "      <th>End_date</th>\n",
       "      <th>Distance</th>\n",
       "      <th>NAME</th>\n",
       "      <th>URL</th>\n",
       "    </tr>\n",
       "  </thead>\n",
       "  <tbody>\n",
       "    <tr>\n",
       "      <th>0</th>\n",
       "      <td>Kansas</td>\n",
       "      <td>Histgen_Ashland</td>\n",
       "      <td>39.137253</td>\n",
       "      <td>-96.636581</td>\n",
       "      <td>2018-04-27</td>\n",
       "      <td>2018-10-17</td>\n",
       "      <td>0.793205</td>\n",
       "      <td>Ashland Bottoms</td>\n",
       "      <td>http://mesonet.k-state.edu/rest/stationdata?st...</td>\n",
       "    </tr>\n",
       "    <tr>\n",
       "      <th>1</th>\n",
       "      <td>Kansas</td>\n",
       "      <td>Agrocete_Ashland</td>\n",
       "      <td>39.122417</td>\n",
       "      <td>-96.637027</td>\n",
       "      <td>2018-06-18</td>\n",
       "      <td>2018-10-29</td>\n",
       "      <td>0.233405</td>\n",
       "      <td>Ashland Bottoms</td>\n",
       "      <td>http://mesonet.k-state.edu/rest/stationdata?st...</td>\n",
       "    </tr>\n",
       "    <tr>\n",
       "      <th>2</th>\n",
       "      <td>Kansas</td>\n",
       "      <td>NitSulfur_Topeka</td>\n",
       "      <td>39.076541</td>\n",
       "      <td>-95.770844</td>\n",
       "      <td>2018-05-10</td>\n",
       "      <td>2018-10-03</td>\n",
       "      <td>0.093515</td>\n",
       "      <td>Silver Lake</td>\n",
       "      <td>http://mesonet.k-state.edu/rest/stationdata?st...</td>\n",
       "    </tr>\n",
       "  </tbody>\n",
       "</table>\n",
       "</div>"
      ],
      "text/plain": [
       "    State     Location_code   Latitude  Longitude Start_date   End_date  \\\n",
       "0  Kansas   Histgen_Ashland  39.137253 -96.636581 2018-04-27 2018-10-17   \n",
       "1  Kansas  Agrocete_Ashland  39.122417 -96.637027 2018-06-18 2018-10-29   \n",
       "2  Kansas  NitSulfur_Topeka  39.076541 -95.770844 2018-05-10 2018-10-03   \n",
       "\n",
       "   Distance             NAME  \\\n",
       "0  0.793205  Ashland Bottoms   \n",
       "1  0.233405  Ashland Bottoms   \n",
       "2  0.093515      Silver Lake   \n",
       "\n",
       "                                                 URL  \n",
       "0  http://mesonet.k-state.edu/rest/stationdata?st...  \n",
       "1  http://mesonet.k-state.edu/rest/stationdata?st...  \n",
       "2  http://mesonet.k-state.edu/rest/stationdata?st...  "
      ]
     },
     "execution_count": 8,
     "metadata": {},
     "output_type": "execute_result"
    }
   ],
   "source": [
    "# Empty lists for the loop\n",
    "Locations = []; URL = []\n",
    "\n",
    "# For loop to create the URLs\n",
    "for i in range(0,len(user_input)):\n",
    "    \n",
    "    Locations.append(str(user_input.loc[i,'Location_code']))\n",
    "    \n",
    "    URL.append(str('http://mesonet.k-state.edu/rest/stationdata?stn=') + \n",
    "               user_input.loc[i,'NAME'].replace(' ','%20') + # Stations with compound names\n",
    "               str('&int=day&t_start=') + user_input.loc[i,'Start_date'].strftime('%Y%m%d%H%M%S') +\n",
    "               str('&t_end=') + user_input.loc[i,'End_date'].strftime('%Y%m%d%H%M%S'))\n",
    "\n",
    "# Changing from lists to DataFrame\n",
    "URLs = pd.DataFrame({'Location_code': Locations,\n",
    "                     'URL': URL})\n",
    "\n",
    "# Adding the URL to the user_input\n",
    "user_input = pd.merge(user_input, URLs)\n",
    "\n",
    "# Checking\n",
    "user_input"
   ]
  },
  {
   "cell_type": "markdown",
   "metadata": {},
   "source": [
    "**Defining the function to extract data from the web:**"
   ]
  },
  {
   "cell_type": "code",
   "execution_count": 9,
   "metadata": {},
   "outputs": [],
   "source": [
    "def webaccess(Loc_code,URL):\n",
    "    \n",
    "    # Reading the .csv file\n",
    "    web_data = pd.read_csv(URL)\n",
    "    \n",
    "    # Converting the TIMESTAMP to the date format\n",
    "    web_data['TIMESTAMP'] = pd.to_datetime(web_data['TIMESTAMP'])\n",
    "    \n",
    "    # Adding column for the Location_code (to identify in the final DataFrame)\n",
    "    web_data.insert(loc = 0, column = 'Location_code', value = str(Loc_code))\n",
    "    \n",
    "    return web_data"
   ]
  },
  {
   "cell_type": "markdown",
   "metadata": {},
   "source": [
    "**For loop to apply the functions and combine all the data:**"
   ]
  },
  {
   "cell_type": "code",
   "execution_count": 10,
   "metadata": {},
   "outputs": [],
   "source": [
    "# DataFrame to start the loop\n",
    "CODE_output = pd.DataFrame()\n",
    "\n",
    "# Loop to add all the locations\n",
    "for i in range(0,user_input.shape[0]):\n",
    "    \n",
    "    data = webaccess(user_input.loc[i,'Location_code'],user_input.loc[i,'URL'])\n",
    "    CODE_output = CODE_output.append(data, ignore_index=True, sort=True)"
   ]
  },
  {
   "cell_type": "markdown",
   "metadata": {},
   "source": [
    "<br>\n",
    "\n",
    "# 4. Replacing missing values for all the variables\n",
    "\n",
    "Replacing lines with \"M\" (missing value) with the the value of the previous line.  \n",
    "`NaN` will not be replaced, since some variables are not available for all the stations."
   ]
  },
  {
   "cell_type": "code",
   "execution_count": 11,
   "metadata": {},
   "outputs": [],
   "source": [
    "for i in CODE_output.columns:\n",
    "    \n",
    "    for j in range(0,CODE_output.shape[0]):\n",
    "        \n",
    "        if CODE_output.loc[j,i] == 'M':\n",
    "            \n",
    "            CODE_output.loc[j,i] = CODE_output.loc[j-1,i]"
   ]
  },
  {
   "cell_type": "markdown",
   "metadata": {},
   "source": [
    "<br>\n",
    "\n",
    "# 5. Combining the locations in the `CODE_output.csv`\n",
    "\n",
    "Saving the final `CODE_output.csv` in the repository folder."
   ]
  },
  {
   "cell_type": "code",
   "execution_count": 12,
   "metadata": {},
   "outputs": [],
   "source": [
    "# Saving the final .csv file with weather data for all the locations\n",
    "CODE_output.to_csv('CODE_output.csv', sep=',', encoding='utf-8')"
   ]
  }
 ],
 "metadata": {
  "kernelspec": {
   "display_name": "Python 3",
   "language": "python",
   "name": "python3"
  },
  "language_info": {
   "codemirror_mode": {
    "name": "ipython",
    "version": 3
   },
   "file_extension": ".py",
   "mimetype": "text/x-python",
   "name": "python",
   "nbconvert_exporter": "python",
   "pygments_lexer": "ipython3",
   "version": "3.7.1"
  }
 },
 "nbformat": 4,
 "nbformat_minor": 2
}
